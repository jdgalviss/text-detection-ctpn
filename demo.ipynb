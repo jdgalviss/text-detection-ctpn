{
 "cells": [
  {
   "cell_type": "code",
   "execution_count": 1,
   "metadata": {},
   "outputs": [
    {
     "name": "stdout",
     "output_type": "stream",
     "text": [
      "/usr/local/lib/python3.5/dist-packages/h5py/__init__.py:36: FutureWarning: Conversion of the second argument of issubdtype from `float` to `np.floating` is deprecated. In future, it will be treated as `np.float64 == np.dtype(float).type`.\n",
      "  from ._conv import register_converters as _register_converters\n",
      "2020-03-29 14:33:32.591085: I tensorflow/core/platform/cpu_feature_guard.cc:137] Your CPU supports instructions that this TensorFlow binary was not compiled to use: SSE4.1 SSE4.2 AVX AVX2 FMA\n",
      "2020-03-29 14:33:32.719915: I tensorflow/stream_executor/cuda/cuda_gpu_executor.cc:892] successful NUMA node read from SysFS had negative value (-1), but there must be at least one NUMA node, so returning NUMA node zero\n",
      "2020-03-29 14:33:32.720206: I tensorflow/core/common_runtime/gpu/gpu_device.cc:1030] Found device 0 with properties: \n",
      "name: GeForce GTX 1650 major: 7 minor: 5 memoryClockRate(GHz): 1.245\n",
      "pciBusID: 0000:01:00.0\n",
      "totalMemory: 3.82GiB freeMemory: 3.27GiB\n",
      "2020-03-29 14:33:32.720231: I tensorflow/core/common_runtime/gpu/gpu_device.cc:1120] Creating TensorFlow device (/device:GPU:0) -> (device: 0, name: GeForce GTX 1650, pci bus id: 0000:01:00.0, compute capability: 7.5)\n",
      "Restore from checkpoints_mlt/ctpn_50000.ckpt\n",
      "Find 5 images\n",
      "===============\n",
      "data/demo/006.jpg\n",
      "2020-03-29 14:39:07.396093: W tensorflow/core/common_runtime/bfc_allocator.cc:217] Allocator (GPU_0_bfc) ran out of memory trying to allocate 3.19GiB. The caller indicates that this is not a failure, but may mean that there could be performance gains if more memory is available.\n",
      "cost time: 223.53s\n",
      "===============\n",
      "data/demo/007.jpg\n",
      "2020-03-29 14:39:09.814443: W tensorflow/core/common_runtime/bfc_allocator.cc:217] Allocator (GPU_0_bfc) ran out of memory trying to allocate 3.57GiB. The caller indicates that this is not a failure, but may mean that there could be performance gains if more memory is available.\n",
      "cost time: 2.58s\n",
      "===============\n",
      "data/demo/008.jpg\n",
      "cost time: 1.54s\n",
      "===============\n",
      "data/demo/010.png\n",
      "2020-03-29 14:39:13.888127: W tensorflow/core/common_runtime/bfc_allocator.cc:217] Allocator (GPU_0_bfc) ran out of memory trying to allocate 2.88GiB. The caller indicates that this is not a failure, but may mean that there could be performance gains if more memory is available.\n",
      "2020-03-29 14:39:13.986288: W tensorflow/core/common_runtime/bfc_allocator.cc:217] Allocator (GPU_0_bfc) ran out of memory trying to allocate 3.84GiB. The caller indicates that this is not a failure, but may mean that there could be performance gains if more memory is available.\n",
      "cost time: 2.16s\n",
      "===============\n",
      "data/demo/009.jpg\n",
      "cost time: 1.45s\n"
     ]
    }
   ],
   "source": [
    "!python ./main/demo.py"
   ]
  },
  {
   "cell_type": "code",
   "execution_count": null,
   "metadata": {},
   "outputs": [],
   "source": []
  }
 ],
 "metadata": {
  "kernelspec": {
   "display_name": "Python 3",
   "language": "python",
   "name": "python3"
  },
  "language_info": {
   "codemirror_mode": {
    "name": "ipython",
    "version": 3
   },
   "file_extension": ".py",
   "mimetype": "text/x-python",
   "name": "python",
   "nbconvert_exporter": "python",
   "pygments_lexer": "ipython3",
   "version": "3.5.2"
  }
 },
 "nbformat": 4,
 "nbformat_minor": 2
}
